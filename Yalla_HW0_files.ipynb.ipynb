{
 "cells": [
  {
   "cell_type": "markdown",
   "id": "f7275d46-7537-43af-a5d0-abdb5ec41c3b",
   "metadata": {},
   "source": [
    "# MCIS6273 Data Mining (Prof. Maull) / Spring 2025 / HW0"
   ]
  },
  {
   "cell_type": "markdown",
   "id": "03a7799b-ea53-4294-ac15-fc8aed36dad9",
   "metadata": {},
   "source": [
    "## Chocolate Review Data Engineering"
   ]
  },
  {
   "cell_type": "markdown",
   "id": "0652db8e-d13c-4e19-924d-45a7272dee8e",
   "metadata": {},
   "source": [
    "### 1. Data Loading and Inspection "
   ]
  },
  {
   "cell_type": "code",
   "execution_count": 1,
   "id": "ed8666c5-87f4-48bd-950f-8651ea601d08",
   "metadata": {},
   "outputs": [],
   "source": [
    "# Import Required Libraries\n",
    "import pandas as pd\n",
    "import os\n"
   ]
  },
  {
   "cell_type": "code",
   "execution_count": 2,
   "id": "2898bafa-131a-48aa-b77a-ad2412f9db84",
   "metadata": {},
   "outputs": [],
   "source": [
    "# Ensure the 'data' folder exists\n",
    "os.makedirs('data', exist_ok=True)"
   ]
  },
  {
   "cell_type": "code",
   "execution_count": 3,
   "id": "df51aeed-ad6b-4580-9620-ef3f758f3d88",
   "metadata": {},
   "outputs": [
    {
     "name": "stdout",
     "output_type": "stream",
     "text": [
      "Loading dataset...\n",
      "Data Loaded Successfully!\n",
      "\n"
     ]
    },
    {
     "data": {
      "text/html": [
       "<div>\n",
       "<style scoped>\n",
       "    .dataframe tbody tr th:only-of-type {\n",
       "        vertical-align: middle;\n",
       "    }\n",
       "\n",
       "    .dataframe tbody tr th {\n",
       "        vertical-align: top;\n",
       "    }\n",
       "\n",
       "    .dataframe thead th {\n",
       "        text-align: right;\n",
       "    }\n",
       "</style>\n",
       "<table border=\"1\" class=\"dataframe\">\n",
       "  <thead>\n",
       "    <tr style=\"text-align: right;\">\n",
       "      <th></th>\n",
       "      <th>REF</th>\n",
       "      <th>Company (Manufacturer)</th>\n",
       "      <th>Company Location</th>\n",
       "      <th>Review Date</th>\n",
       "      <th>Country of Bean Origin</th>\n",
       "      <th>Specific Bean Origin or Bar Name</th>\n",
       "      <th>Cocoa Percent</th>\n",
       "      <th>Ingredients</th>\n",
       "      <th>Most Memorable Characteristics</th>\n",
       "      <th>Rating</th>\n",
       "    </tr>\n",
       "  </thead>\n",
       "  <tbody>\n",
       "    <tr>\n",
       "      <th>0</th>\n",
       "      <td>2454</td>\n",
       "      <td>5150</td>\n",
       "      <td>U.S.A.</td>\n",
       "      <td>2019</td>\n",
       "      <td>Madagascar</td>\n",
       "      <td>Bejofo Estate, batch 1</td>\n",
       "      <td>76%</td>\n",
       "      <td>3- B,S,C</td>\n",
       "      <td>cocoa, blackberry, full body</td>\n",
       "      <td>3.75</td>\n",
       "    </tr>\n",
       "    <tr>\n",
       "      <th>1</th>\n",
       "      <td>2458</td>\n",
       "      <td>5150</td>\n",
       "      <td>U.S.A.</td>\n",
       "      <td>2019</td>\n",
       "      <td>Dominican Republic</td>\n",
       "      <td>Zorzal, batch 1</td>\n",
       "      <td>76%</td>\n",
       "      <td>3- B,S,C</td>\n",
       "      <td>cocoa, vegetal, savory</td>\n",
       "      <td>3.50</td>\n",
       "    </tr>\n",
       "    <tr>\n",
       "      <th>2</th>\n",
       "      <td>2454</td>\n",
       "      <td>5150</td>\n",
       "      <td>U.S.A.</td>\n",
       "      <td>2019</td>\n",
       "      <td>Tanzania</td>\n",
       "      <td>Kokoa Kamili, batch 1</td>\n",
       "      <td>76%</td>\n",
       "      <td>3- B,S,C</td>\n",
       "      <td>rich cocoa, fatty, bready</td>\n",
       "      <td>3.25</td>\n",
       "    </tr>\n",
       "    <tr>\n",
       "      <th>3</th>\n",
       "      <td>2542</td>\n",
       "      <td>5150</td>\n",
       "      <td>U.S.A.</td>\n",
       "      <td>2021</td>\n",
       "      <td>India</td>\n",
       "      <td>Anamalai, batch 1</td>\n",
       "      <td>68%</td>\n",
       "      <td>3- B,S,C</td>\n",
       "      <td>milk brownie, macadamia,chewy</td>\n",
       "      <td>3.50</td>\n",
       "    </tr>\n",
       "    <tr>\n",
       "      <th>4</th>\n",
       "      <td>2546</td>\n",
       "      <td>5150</td>\n",
       "      <td>U.S.A.</td>\n",
       "      <td>2021</td>\n",
       "      <td>Uganda</td>\n",
       "      <td>Semuliki Forest, batch 1</td>\n",
       "      <td>80%</td>\n",
       "      <td>3- B,S,C</td>\n",
       "      <td>mildly bitter, basic cocoa, fatty</td>\n",
       "      <td>3.25</td>\n",
       "    </tr>\n",
       "  </tbody>\n",
       "</table>\n",
       "</div>"
      ],
      "text/plain": [
       "    REF Company (Manufacturer) Company Location  Review Date  \\\n",
       "0  2454                   5150           U.S.A.         2019   \n",
       "1  2458                   5150           U.S.A.         2019   \n",
       "2  2454                   5150           U.S.A.         2019   \n",
       "3  2542                   5150           U.S.A.         2021   \n",
       "4  2546                   5150           U.S.A.         2021   \n",
       "\n",
       "  Country of Bean Origin Specific Bean Origin or Bar Name Cocoa Percent  \\\n",
       "0             Madagascar           Bejofo Estate, batch 1           76%   \n",
       "1     Dominican Republic                  Zorzal, batch 1           76%   \n",
       "2               Tanzania            Kokoa Kamili, batch 1           76%   \n",
       "3                  India                Anamalai, batch 1           68%   \n",
       "4                 Uganda         Semuliki Forest, batch 1           80%   \n",
       "\n",
       "  Ingredients     Most Memorable Characteristics  Rating  \n",
       "0    3- B,S,C       cocoa, blackberry, full body    3.75  \n",
       "1    3- B,S,C             cocoa, vegetal, savory    3.50  \n",
       "2    3- B,S,C          rich cocoa, fatty, bready    3.25  \n",
       "3    3- B,S,C      milk brownie, macadamia,chewy    3.50  \n",
       "4    3- B,S,C  mildly bitter, basic cocoa, fatty    3.25  "
      ]
     },
     "execution_count": 3,
     "metadata": {},
     "output_type": "execute_result"
    }
   ],
   "source": [
    "# Load Data\n",
    "print(\"Loading dataset...\")\n",
    "df = pd.read_csv(\"2024_flavors_of_cacoa.csv\")\n",
    "print(\"Data Loaded Successfully!\\n\")\n",
    "df.head()"
   ]
  },
  {
   "cell_type": "code",
   "execution_count": 4,
   "id": "aa069bb0-151b-4f01-8091-a4b1761a0dbf",
   "metadata": {},
   "outputs": [
    {
     "name": "stdout",
     "output_type": "stream",
     "text": [
      "Data information\n",
      "\n",
      "<class 'pandas.core.frame.DataFrame'>\n",
      "RangeIndex: 2789 entries, 0 to 2788\n",
      "Data columns (total 10 columns):\n",
      " #   Column                            Non-Null Count  Dtype  \n",
      "---  ------                            --------------  -----  \n",
      " 0   REF                               2789 non-null   int64  \n",
      " 1   Company (Manufacturer)            2789 non-null   object \n",
      " 2   Company Location                  2789 non-null   object \n",
      " 3   Review Date                       2789 non-null   int64  \n",
      " 4   Country of Bean Origin            2789 non-null   object \n",
      " 5   Specific Bean Origin or Bar Name  2789 non-null   object \n",
      " 6   Cocoa Percent                     2789 non-null   object \n",
      " 7   Ingredients                       2789 non-null   object \n",
      " 8   Most Memorable Characteristics    2789 non-null   object \n",
      " 9   Rating                            2789 non-null   float64\n",
      "dtypes: float64(1), int64(2), object(7)\n",
      "memory usage: 218.0+ KB\n"
     ]
    }
   ],
   "source": [
    "print(\"Data information\\n\")\n",
    "df.info()"
   ]
  },
  {
   "cell_type": "code",
   "execution_count": 5,
   "id": "fe7a3c52-1340-4a68-83b1-a86e34f53f2b",
   "metadata": {},
   "outputs": [
    {
     "name": "stdout",
     "output_type": "stream",
     "text": [
      "Checking column names...\n",
      "Index(['REF', 'Company (Manufacturer)', 'Company Location', 'Review Date',\n",
      "       'Country of Bean Origin', 'Specific Bean Origin or Bar Name',\n",
      "       'Cocoa Percent', 'Ingredients', 'Most Memorable Characteristics',\n",
      "       'Rating'],\n",
      "      dtype='object')\n"
     ]
    }
   ],
   "source": [
    "# Display column names to verify\n",
    "print(\"Checking column names...\")\n",
    "print(df.columns)\n"
   ]
  },
  {
   "cell_type": "markdown",
   "id": "ccd61015-b75f-47c9-9803-5ae9a58a6b74",
   "metadata": {},
   "source": [
    "### 2.Data Transformation"
   ]
  },
  {
   "cell_type": "code",
   "execution_count": 6,
   "id": "83a3c7bd-8100-46e3-8c48-691077b147ce",
   "metadata": {},
   "outputs": [
    {
     "name": "stdout",
     "output_type": "stream",
     "text": [
      "Renamed 'Cocoa Percent' to 'Cacao Percent'\n",
      "Updated column names: Index(['REF', 'Company (Manufacturer)', 'Company Location', 'Review Date',\n",
      "       'Country of Bean Origin', 'Specific Bean Origin or Bar Name',\n",
      "       'Cacao Percent', 'Ingredients', 'Most Memorable Characteristics',\n",
      "       'Rating'],\n",
      "      dtype='object')\n"
     ]
    }
   ],
   "source": [
    "# Ensure Correct Column Naming\n",
    "df.columns = df.columns.str.strip()  # Remove extra spaces\n",
    "\n",
    "# Rename 'Cocoa Percent' to 'Cacao Percent' for consistency\n",
    "if \"Cocoa Percent\" in df.columns:\n",
    "    df.rename(columns={\"Cocoa Percent\": \"Cacao Percent\"}, inplace=True)\n",
    "    print(\"Renamed 'Cocoa Percent' to 'Cacao Percent'\")\n",
    "\n",
    "# Display updated column names\n",
    "print(\"Updated column names:\", df.columns)"
   ]
  },
  {
   "cell_type": "code",
   "execution_count": 7,
   "id": "672986e0-fb59-4eab-835b-0a08e21e5a8a",
   "metadata": {},
   "outputs": [
    {
     "name": "stdout",
     "output_type": "stream",
     "text": [
      "Transforming 'Cacao Percent' column...\n",
      "Transformation Complete!\n",
      "\n"
     ]
    }
   ],
   "source": [
    "## 1. Transform 'Cacao Percent' to Float\n",
    "print(\"Transforming 'Cacao Percent' column...\")\n",
    "df[\"Cacao Percent\"] = df[\"Cacao Percent\"].astype(str)  # Ensure it's a string\n",
    "df[\"Cacao Percent\"] = df[\"Cacao Percent\"].str.replace(\"%\", \"\").astype(float) / 100\n",
    "print(\"Transformation Complete!\\n\")"
   ]
  },
  {
   "cell_type": "code",
   "execution_count": 8,
   "id": "54278beb-0787-413f-8f3b-5b5e7c16afc7",
   "metadata": {},
   "outputs": [
    {
     "name": "stdout",
     "output_type": "stream",
     "text": [
      "Splitting 'Ingredients' column...\n",
      "Ingredients Column Split and Added!\n",
      "\n"
     ]
    }
   ],
   "source": [
    "## 2. Split 'Ingredients' into Multiple Columns\n",
    "print(\"Splitting 'Ingredients' column...\")\n",
    "ingredients = df[\"Ingredients\"].str.extract(r'(?P<ingredient_count>\\d+)-? ?(?P<ingredients>[A-Z,]*)')\n",
    "df[\"ingredient_count\"] = ingredients[\"ingredient_count\"].astype(float)\n",
    "\n",
    "# Ingredient types from website: B, C, L, S, S*, Sa, V\n",
    "ingredient_cols = [\"B\", \"C\", \"L\", \"S\", \"S*\", \"Sa\", \"V\"]\n",
    "ing_df = ingredients[\"ingredients\"].str.get_dummies(sep=\",\")\n",
    "\n",
    "# Ensure all columns exist\n",
    "ing_df = ing_df.reindex(columns=ingredient_cols, fill_value=0)\n",
    "\n",
    "# Merge back into DataFrame\n",
    "df = pd.concat([df, ing_df], axis=1)\n",
    "print(\"Ingredients Column Split and Added!\\n\")"
   ]
  },
  {
   "cell_type": "code",
   "execution_count": 9,
   "id": "475c395c-146b-4145-b72c-ef47c67207c1",
   "metadata": {},
   "outputs": [
    {
     "name": "stdout",
     "output_type": "stream",
     "text": [
      "Processing 'Most Memorable Characteristics' column...\n",
      "Characteristics Column Processed!\n",
      "\n"
     ]
    }
   ],
   "source": [
    "## 3. Expand 'Most Memorable Characteristics' into Individual Columns\n",
    "print(\"Processing 'Most Memorable Characteristics' column...\")\n",
    "characteristic_counts = df[\"Most Memorable Characteristics\"].str.get_dummies(sep=\",\").sum().sort_values(ascending=False)\n",
    "selected_characteristics = characteristic_counts[characteristic_counts >= 20].index.tolist()\n",
    "char_df = df[\"Most Memorable Characteristics\"].str.get_dummies(sep=\",\")[selected_characteristics]\n",
    "df = pd.concat([df, char_df], axis=1)\n",
    "print(\"Characteristics Column Processed!\\n\")"
   ]
  },
  {
   "cell_type": "code",
   "execution_count": 10,
   "id": "d9880bba-b401-4779-a7e2-2848b909782e",
   "metadata": {},
   "outputs": [],
   "source": [
    "# Drop unnecessary columns\n",
    "df.drop(columns=[\"Ingredients\", \"Most Memorable Characteristics\"], inplace=True)\n"
   ]
  },
  {
   "cell_type": "markdown",
   "id": "e75f3dc1-d6da-4852-8a7c-262ec0a3f6b8",
   "metadata": {},
   "source": [
    "### 3. Save Cleaned Data"
   ]
  },
  {
   "cell_type": "code",
   "execution_count": 11,
   "id": "31e4ecaf-c5c2-42f6-899c-e08fc4320029",
   "metadata": {},
   "outputs": [
    {
     "name": "stdout",
     "output_type": "stream",
     "text": [
      "Cleaned dataset saved as data/cleaned_data_2025_flavors_of_cacao.csv\n",
      "\n"
     ]
    }
   ],
   "source": [
    "cleaned_file = \"data/cleaned_data_2025_flavors_of_cacao.csv\"\n",
    "df.to_csv(cleaned_file, index=False)\n",
    "print(f\"Cleaned dataset saved as {cleaned_file}\\n\")\n"
   ]
  },
  {
   "cell_type": "markdown",
   "id": "bc8d1d96-96eb-4d6a-a492-767cd158d389",
   "metadata": {},
   "source": [
    "### 4.Extract, Transform & Export JSON/CSV"
   ]
  },
  {
   "cell_type": "code",
   "execution_count": 12,
   "id": "ab232007-d32f-48b3-8396-7991203d3003",
   "metadata": {},
   "outputs": [
    {
     "name": "stdout",
     "output_type": "stream",
     "text": [
      "Reduced dataset saved as data/data_reduced_2025_flavors_of_cacao.csv and data/data_reduced_2025_flavors_of_cacao.json\n",
      "\n"
     ]
    }
   ],
   "source": [
    "## Select Required Columns\n",
    "data_reduced = df[[\"Review Date\", \"Country of Bean Origin\", \"Cacao Percent\", \"Rating\"]]\n",
    "\n",
    "# Save CSV and JSON\n",
    "reduced_csv = \"data/data_reduced_2025_flavors_of_cacao.csv\"\n",
    "reduced_json = \"data/data_reduced_2025_flavors_of_cacao.json\"\n",
    "data_reduced.to_csv(reduced_csv, index=False)\n",
    "data_reduced.to_json(reduced_json, orient=\"records\", indent=4)\n",
    "print(f\"Reduced dataset saved as {reduced_csv} and {reduced_json}\\n\")"
   ]
  },
  {
   "cell_type": "markdown",
   "id": "345f9daa-c3dd-4855-825f-8e20ac1cc5aa",
   "metadata": {},
   "source": [
    "### 5.Filter, Transform & Export Filtered Data"
   ]
  },
  {
   "cell_type": "code",
   "execution_count": 13,
   "id": "8ae7c11c-92b5-46c6-8bd0-76a5605aa4a3",
   "metadata": {},
   "outputs": [
    {
     "name": "stdout",
     "output_type": "stream",
     "text": [
      "Filtering dataset based on conditions...\n",
      "Data filtered successfully!\n",
      "\n"
     ]
    }
   ],
   "source": [
    "## Apply Filtering Conditions\n",
    "print(\"Filtering dataset based on conditions...\")\n",
    "data_filtered = df[\n",
    "    (df[\"Rating\"] >= 3.25) &\n",
    "    (df[\"Cacao Percent\"].between(0.65, 0.75)) &\n",
    "    (df[\"Review Date\"].between(2018, 2021)) &\n",
    "    (\n",
    "        df[[\"fatty\", \"earthy\", \"roasty\"]].sum(axis=1) > 0\n",
    "    )\n",
    "]\n",
    "print(\"Data filtered successfully!\\n\")"
   ]
  },
  {
   "cell_type": "code",
   "execution_count": 14,
   "id": "edd05236-c15e-4fe2-97a1-07afb250ae2f",
   "metadata": {},
   "outputs": [
    {
     "name": "stdout",
     "output_type": "stream",
     "text": [
      "Filtered dataset saved as data/data_filtered_2025_flavors_of_cacao.csv and data/data_filtered_2025_flavors_of_cacao.json\n",
      "\n",
      "All tasks completed successfully!\n"
     ]
    }
   ],
   "source": [
    "# Save Filtered Data\n",
    "filtered_csv = \"data/data_filtered_2025_flavors_of_cacao.csv\"\n",
    "filtered_json = \"data/data_filtered_2025_flavors_of_cacao.json\"\n",
    "data_filtered.to_csv(filtered_csv, index=False)\n",
    "data_filtered.to_json(filtered_json, orient=\"records\", indent=4)\n",
    "print(f\"Filtered dataset saved as {filtered_csv} and {filtered_json}\\n\")\n",
    "\n",
    "print(\"All tasks completed successfully!\")"
   ]
  },
  {
   "cell_type": "code",
   "execution_count": null,
   "id": "d5bc188c-6e40-40a7-a9c1-92509900c3f5",
   "metadata": {},
   "outputs": [],
   "source": []
  }
 ],
 "metadata": {
  "kernelspec": {
   "display_name": "Python 3 (ipykernel)",
   "language": "python",
   "name": "python3"
  },
  "language_info": {
   "codemirror_mode": {
    "name": "ipython",
    "version": 3
   },
   "file_extension": ".py",
   "mimetype": "text/x-python",
   "name": "python",
   "nbconvert_exporter": "python",
   "pygments_lexer": "ipython3",
   "version": "3.12.7"
  }
 },
 "nbformat": 4,
 "nbformat_minor": 5
}
